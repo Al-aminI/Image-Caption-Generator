{
 "cells": [
  {
   "cell_type": "code",
   "execution_count": null,
   "metadata": {},
   "outputs": [],
   "source": [
    "import pandas as pd\n",
    "import torch\n",
    "import torchvision.transforms as transforms\n"
   ]
  },
  {
   "cell_type": "code",
   "execution_count": null,
   "metadata": {},
   "outputs": [],
   "source": [
    "# Load the dataset\n",
    "df = pd.read_csv('captions folder/results.csv')"
   ]
  },
  {
   "cell_type": "code",
   "execution_count": null,
   "metadata": {},
   "outputs": [],
   "source": [
    "# Preprocess the data\n",
    "# 1. Resize the images\n",
    "image_transformer = transforms.Compose([\n",
    " transforms.Resize((224, 224)),\n",
    " transforms.ToTensor()\n",
    "])"
   ]
  },
  {
   "cell_type": "code",
   "execution_count": null,
   "metadata": {},
   "outputs": [],
   "source": [
    "# 2. Tokenize the captions\n",
    "vocab = set()\n",
    "for caption in df['caption']:\n",
    " vocab.update(caption.split())\n",
    "# 3. Create a vocabulary of the most common words\n",
    "vocab = list(vocab)\n",
    "word_to_idx = {word: idx for idx, word in enumerate(vocab)}"
   ]
  },
  {
   "cell_type": "code",
   "execution_count": null,
   "metadata": {},
   "outputs": [],
   "source": [
    "# 4. Map each word in the captions to an integer index\n",
    "captions = []\n",
    "for caption in df['caption']:\n",
    "    tokens = caption.split()\n",
    "    indices = [word_to_idx[token] for token in tokens]\n",
    "    captions.append(indices)\n",
    " \n",
    "# 5. Convert the captions to tensors\n",
    "captions = torch.tensor(captions)"
   ]
  },
  {
   "cell_type": "code",
   "execution_count": null,
   "metadata": {},
   "outputs": [],
   "source": [
    "# 6. Create a dataset object\n",
    "class CaptionDataset(torch.utils.data.Dataset):\n",
    "\n",
    "    def __init__(self, images, captions):\n",
    "        self.images = images\n",
    "        self.captions = captions\n",
    "\n",
    "    def __len__(self):\n",
    "        return len(self.images)\n",
    "\n",
    "    def __getitem__(self, idx):\n",
    "        image = self.images[idx]\n",
    "        caption = self.captions[idx]\n",
    "        return image, caption"
   ]
  },
  {
   "cell_type": "code",
   "execution_count": null,
   "metadata": {},
   "outputs": [],
   "source": [
    "dataset = CaptionDataset(df['image'], captions)\n"
   ]
  },
  {
   "cell_type": "code",
   "execution_count": null,
   "metadata": {},
   "outputs": [],
   "source": [
    "# Create a dataloader to batch the data\n",
    "train_dataloader = torch.utils.data.DataLoader(dataset, batch_size = 32, shuffle=True)"
   ]
  }
 ],
 "metadata": {
  "kernelspec": {
   "display_name": "Python 3.9.1 64-bit",
   "language": "python",
   "name": "python3"
  },
  "language_info": {
   "codemirror_mode": {
    "name": "ipython",
    "version": 3
   },
   "file_extension": ".py",
   "mimetype": "text/x-python",
   "name": "python",
   "nbconvert_exporter": "python",
   "pygments_lexer": "ipython3",
   "version": "3.9.1"
  },
  "orig_nbformat": 4,
  "vscode": {
   "interpreter": {
    "hash": "9c16e256ad5d6f4a6959e03c549eb70dcabb89f9f1fb0b3e1152007c6d65dbac"
   }
  }
 },
 "nbformat": 4,
 "nbformat_minor": 2
}
