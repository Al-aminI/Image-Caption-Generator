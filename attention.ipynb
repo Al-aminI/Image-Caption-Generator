{
 "cells": [
  {
   "cell_type": "code",
   "execution_count": null,
   "metadata": {},
   "outputs": [],
   "source": [
    "class Attention(nn.Module):\n",
    "    def __init__(self, hidden_dim, cnn_output_dim):\n",
    "        super(Attention, self).__init__()\n",
    "\n",
    "        self.hidden_dim = hidden_dim\n",
    "        self.cnn_output_dim = cnn_output_dim\n",
    "\n",
    "        self.linear_hidden = nn.Linear(hidden_dim, cnn_output_dim, bias=False)\n",
    "        self.linear_cnn = nn.Linear(cnn_output_dim, cnn_output_dim, bias=False)\n",
    "\n",
    "    def forward(self, hidden, encoder_output):\n",
    "        # Compute energy between hidden state and CNN output\n",
    "        energy = torch.tanh(self.linear_hidden(hidden) + self.linear_cnn(encoder_output))\n",
    "\n",
    "        # Compute attention weights\n",
    "        attention_weights = self.linear_cnn(energy)\n",
    "        attention_weights = F.softmax(attention_weights, dim=1)\n",
    "        weighted_sum = attention_weights * encoder_output\n",
    "        weighted_sum = torch.sum(weighted_sum, dim=1)\n",
    " \n",
    "        return weighted_sum, attention_weights"
   ]
  }
 ],
 "metadata": {
  "kernelspec": {
   "display_name": "Python 3.9.1 64-bit",
   "language": "python",
   "name": "python3"
  },
  "language_info": {
   "name": "python",
   "version": "3.9.1"
  },
  "orig_nbformat": 4,
  "vscode": {
   "interpreter": {
    "hash": "9c16e256ad5d6f4a6959e03c549eb70dcabb89f9f1fb0b3e1152007c6d65dbac"
   }
  }
 },
 "nbformat": 4,
 "nbformat_minor": 2
}
